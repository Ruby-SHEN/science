{
 "cells": [
  {
   "cell_type": "code",
   "execution_count": 9,
   "metadata": {},
   "outputs": [
    {
     "name": "stdout",
     "output_type": "stream",
     "text": [
      "a: 4.2 b: 2.4\n",
      "最小值: 0.78\n"
     ]
    }
   ],
   "source": [
    "import pulp\n",
    "\n",
    "#最小值\n",
    "total = pulp.LpProblem('Minimum' , pulp.LpMinimize)\n",
    "\n",
    "#參數\n",
    "a = pulp.LpVariable('a', lowBound=0 , upBound=None)\n",
    "b = pulp.LpVariable('b', lowBound=0 , upBound=None)\n",
    "\n",
    "#限制\n",
    "total += 0.10*a+0.15*b, 'Objective Function'\n",
    "total += 5*a+10*b >= 45\n",
    "total += 4*a+3*b >= 24\n",
    "total += 0.5*a >= 1.5\n",
    "total += b >=0\n",
    "\n",
    "total.solve()\n",
    "\n",
    "#結果\n",
    "print(\"a:\",pulp.value(a),\"b:\",pulp.value(b))\n",
    "print(\"最小值:\",pulp.value(total.objective))"
   ]
  },
  {
   "cell_type": "code",
   "execution_count": 17,
   "metadata": {},
   "outputs": [
    {
     "name": "stdout",
     "output_type": "stream",
     "text": [
      "a: 10.0 b: 50.0\n",
      "最大值: 6000000.0\n"
     ]
    }
   ],
   "source": [
    "import pulp\n",
    "\n",
    "#最大值\n",
    "total = pulp.LpProblem('Maximum' , pulp.LpMaximize)\n",
    "\n",
    "#參數\n",
    "a = pulp.LpVariable('a', lowBound=0 , upBound=None)\n",
    "b = pulp.LpVariable('b', lowBound=0 , upBound=None)\n",
    "\n",
    "#限制\n",
    "total += 200000*a+80000*b, 'Objective Function'\n",
    "total += 3000*a+900*b <= 75000\n",
    "total += -5*a+1*b <= 0\n",
    "total += a <= 15\n",
    "total += b >=5\n",
    "\n",
    "total.solve()\n",
    "\n",
    "#結果\n",
    "print(\"a:\",pulp.value(a),\"b:\",pulp.value(b))\n",
    "print(\"最大值:\",pulp.value(total.objective))"
   ]
  },
  {
   "cell_type": "code",
   "execution_count": 22,
   "metadata": {},
   "outputs": [
    {
     "name": "stdout",
     "output_type": "stream",
     "text": [
      "e11: 27.5 c30: 7.5 d21: 27.5 c92: 15.0\n",
      "最小值: 3.35\n"
     ]
    }
   ],
   "source": [
    "import pulp\n",
    "\n",
    "#最大值\n",
    "total = pulp.LpProblem('Minimum' , pulp.LpMinimize)\n",
    "\n",
    "#參數\n",
    "e11 = pulp.LpVariable('e11', lowBound=0)\n",
    "c30 = pulp.LpVariable('c30', lowBound=0)\n",
    "d21 = pulp.LpVariable('d21', lowBound=0)\n",
    "c92 = pulp.LpVariable('c92', lowBound=0)\n",
    "\n",
    "#限制\n",
    "total += c30*0.12 + c92*0.09+ d21*0.11+e11*0.04, 'Objective Function'\n",
    "total += e11 >= 7.5 #50*0.15\n",
    "total += c92+c30 >= 22.5 #50*0.45\n",
    "total += d21+c92 <= 15 #50*0.3\n",
    "total += c30+c92+d21+e11 == 50\n",
    "\n",
    "total.solve()\n",
    "\n",
    "#結果\n",
    "print(\"e11:\",pulp.value(e11),\"c30:\",pulp.value(c30),\"d21:\",pulp.value(e11),\"c92:\",pulp.value(c92))\n",
    "print(\"最小值:\",pulp.value(total.objective))"
   ]
  },
  {
   "cell_type": "code",
   "execution_count": null,
   "metadata": {},
   "outputs": [],
   "source": []
  }
 ],
 "metadata": {
  "kernelspec": {
   "display_name": "Python 3",
   "language": "python",
   "name": "python3"
  },
  "language_info": {
   "codemirror_mode": {
    "name": "ipython",
    "version": 3
   },
   "file_extension": ".py",
   "mimetype": "text/x-python",
   "name": "python",
   "nbconvert_exporter": "python",
   "pygments_lexer": "ipython3",
   "version": "3.8.3"
  }
 },
 "nbformat": 4,
 "nbformat_minor": 4
}
